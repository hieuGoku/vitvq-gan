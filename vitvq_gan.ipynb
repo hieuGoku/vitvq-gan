{
  "cells": [
    {
      "cell_type": "code",
      "source": [
        "from google.colab import drive\n",
        "drive.mount('/content/drive')"
      ],
      "metadata": {
        "colab": {
          "base_uri": "https://localhost:8080/"
        },
        "id": "mJnsnzWiPoAi",
        "outputId": "7354e442-2ddb-4f99-8c38-aa8a649261bd"
      },
      "execution_count": null,
      "outputs": [
        {
          "output_type": "stream",
          "name": "stdout",
          "text": [
            "Mounted at /content/drive\n"
          ]
        }
      ]
    },
    {
      "cell_type": "code",
      "source": [
        "# %cd /content/drive/MyDrive/da\n",
        "# !git clone https://github.com/thuanz123/enhancing-transformers.git"
      ],
      "metadata": {
        "id": "eSY0suMFz34_"
      },
      "execution_count": null,
      "outputs": []
    },
    {
      "cell_type": "code",
      "source": [
        "# %cd /content/drive/MyDrive/da/enhancing-transformers"
      ],
      "metadata": {
        "colab": {
          "base_uri": "https://localhost:8080/"
        },
        "id": "rxFlRi1Z0EJu",
        "outputId": "dd1ca0a6-b7d4-4018-9e0f-0c29367169da"
      },
      "execution_count": null,
      "outputs": [
        {
          "output_type": "stream",
          "name": "stdout",
          "text": [
            "/content/drive/MyDrive/da/enhancing-transformers\n"
          ]
        }
      ]
    },
    {
      "cell_type": "code",
      "source": [
        "%cd /content\n",
        "!cp -r /content/drive/MyDrive/da/enhancing-transformers/imagenet_exp /content"
      ],
      "metadata": {
        "id": "0h-N_e5i1KGZ"
      },
      "execution_count": null,
      "outputs": []
    },
    {
      "cell_type": "markdown",
      "metadata": {
        "id": "BBne1eqj-T9D"
      },
      "source": [
        "### install miniconda"
      ]
    },
    {
      "cell_type": "code",
      "execution_count": null,
      "metadata": {
        "colab": {
          "base_uri": "https://localhost:8080/"
        },
        "id": "du8s735AiLXi",
        "outputId": "bcf8cbff-fb9b-4c22-c106-905c3334d549"
      },
      "outputs": [
        {
          "output_type": "stream",
          "name": "stdout",
          "text": [
            "/usr/local/bin/python\n",
            "Python 3.10.12\n"
          ]
        }
      ],
      "source": [
        "#Path and version numbers for python\n",
        "!which python\n",
        "!python --version"
      ]
    },
    {
      "cell_type": "code",
      "execution_count": null,
      "metadata": {
        "colab": {
          "base_uri": "https://localhost:8080/"
        },
        "id": "FPpwZf-AiLXk",
        "outputId": "e0f424cf-2f5f-4902-e8b7-560cc6ad7b05"
      },
      "outputs": [
        {
          "output_type": "stream",
          "name": "stdout",
          "text": [
            "env: PYTHONPATH=\n"
          ]
        }
      ],
      "source": [
        "%env PYTHONPATH="
      ]
    },
    {
      "cell_type": "code",
      "execution_count": null,
      "metadata": {
        "id": "wWwRqGxbiLXk"
      },
      "outputs": [],
      "source": [
        "%%bash\n",
        "MINICONDA_INSTALLER_SCRIPT=Miniconda3-py38_23.11.0-2-Linux-x86_64.sh\n",
        "MINICONDA_PREFIX=/usr/local\n",
        "wget https://repo.anaconda.com/miniconda/Miniconda3-py38_23.11.0-2-Linux-x86_64.sh\n",
        "chmod +x $MINICONDA_INSTALLER_SCRIPT\n",
        "./$MINICONDA_INSTALLER_SCRIPT -b -f -p $MINICONDA_PREFIX\n",
        "clear"
      ]
    },
    {
      "cell_type": "code",
      "execution_count": null,
      "metadata": {
        "colab": {
          "base_uri": "https://localhost:8080/"
        },
        "id": "w5jDaZY_iLXl",
        "outputId": "5085ac64-5a3e-411a-9d62-1a9c46a0ae28"
      },
      "outputs": [
        {
          "output_type": "stream",
          "name": "stdout",
          "text": [
            "/usr/local/bin/conda\n"
          ]
        }
      ],
      "source": [
        "!which conda # should return /usr/local/bin/conda"
      ]
    },
    {
      "cell_type": "code",
      "execution_count": null,
      "metadata": {
        "colab": {
          "base_uri": "https://localhost:8080/"
        },
        "id": "mT07XQJ4iLXl",
        "outputId": "6495bd41-7765-4100-be30-a9e283e4661d"
      },
      "outputs": [
        {
          "output_type": "stream",
          "name": "stdout",
          "text": [
            "conda 23.11.0\n"
          ]
        }
      ],
      "source": [
        "!conda --version"
      ]
    },
    {
      "cell_type": "code",
      "execution_count": null,
      "metadata": {
        "colab": {
          "base_uri": "https://localhost:8080/"
        },
        "id": "ss-2jRS1iLXl",
        "outputId": "505d00fb-aa86-4a14-b059-7f60e624e95a"
      },
      "outputs": [
        {
          "output_type": "stream",
          "name": "stdout",
          "text": [
            "Python 3.8.18\n"
          ]
        }
      ],
      "source": [
        "!python --version"
      ]
    },
    {
      "cell_type": "markdown",
      "metadata": {
        "id": "eE-XsQKYiLXm"
      },
      "source": [
        "Update conda"
      ]
    },
    {
      "cell_type": "code",
      "execution_count": null,
      "metadata": {
        "id": "sQH9P-M-iLXm"
      },
      "outputs": [],
      "source": [
        "%%bash\n",
        "conda install --channel defaults conda python=3.8 --yes\n",
        "conda update --channel defaults --all --yes"
      ]
    },
    {
      "cell_type": "code",
      "execution_count": null,
      "metadata": {
        "colab": {
          "base_uri": "https://localhost:8080/"
        },
        "id": "1E_CAd4-iLXm",
        "outputId": "7fb2eea1-bed0-41d0-efeb-81534e852602"
      },
      "outputs": [
        {
          "output_type": "stream",
          "name": "stdout",
          "text": [
            "conda 24.3.0\n"
          ]
        }
      ],
      "source": [
        "!conda --version # updated version of conda"
      ]
    },
    {
      "cell_type": "code",
      "execution_count": null,
      "metadata": {
        "colab": {
          "base_uri": "https://localhost:8080/"
        },
        "id": "VmckoiwqiLXm",
        "outputId": "18f0b779-a039-47f1-8208-f97f97926772"
      },
      "outputs": [
        {
          "output_type": "stream",
          "name": "stdout",
          "text": [
            "Python 3.8.19\n"
          ]
        }
      ],
      "source": [
        "!python --version"
      ]
    },
    {
      "cell_type": "code",
      "execution_count": null,
      "metadata": {
        "colab": {
          "base_uri": "https://localhost:8080/"
        },
        "id": "lI78YaUdiLXn",
        "outputId": "e43463ba-87ea-4544-d7f1-0fd03a1c66f2"
      },
      "outputs": [
        {
          "output_type": "execute_result",
          "data": {
            "text/plain": [
              "['/content',\n",
              " '/env/python',\n",
              " '/usr/lib/python310.zip',\n",
              " '/usr/lib/python3.10',\n",
              " '/usr/lib/python3.10/lib-dynload',\n",
              " '',\n",
              " '/usr/local/lib/python3.10/dist-packages',\n",
              " '/usr/lib/python3/dist-packages',\n",
              " '/usr/local/lib/python3.10/dist-packages/IPython/extensions',\n",
              " '/root/.ipython']"
            ]
          },
          "metadata": {},
          "execution_count": 14
        }
      ],
      "source": [
        "import sys\n",
        "sys.path"
      ]
    },
    {
      "cell_type": "code",
      "execution_count": null,
      "metadata": {
        "id": "o00OJQRFiLXo"
      },
      "outputs": [],
      "source": [
        "import sys\n",
        "_ = (sys.path\n",
        "        .append(\"/usr/local/lib/python3.8/site-packages\"))"
      ]
    },
    {
      "cell_type": "markdown",
      "source": [
        "### install packages"
      ],
      "metadata": {
        "id": "PqBIVcdLYpLl"
      }
    },
    {
      "cell_type": "code",
      "source": [
        "!conda install ninja=1.10.2\n",
        "!conda install pytorch=1.7.1\n",
        "!conda install numpy=1.19.2\n",
        "!conda install pytorch-lightning=1.5.10 -c conda-forge\n",
        "!conda install torchvision=0.8.2\n",
        "\n",
        "!conda install cudatoolkit=11.0"
      ],
      "metadata": {
        "id": "SRRAQOPR4F_y"
      },
      "execution_count": null,
      "outputs": []
    },
    {
      "cell_type": "code",
      "source": [
        "!conda install -c conda-forge cudatoolkit-dev"
      ],
      "metadata": {
        "id": "GvsWvV7n5jL6"
      },
      "execution_count": null,
      "outputs": []
    },
    {
      "cell_type": "code",
      "source": [
        "!pip install -r /content/drive/MyDrive/da/enhancing-transformers/requirements.txt"
      ],
      "metadata": {
        "id": "J7tXeBzl7nBq"
      },
      "execution_count": null,
      "outputs": []
    },
    {
      "cell_type": "code",
      "source": [
        "!pip list"
      ],
      "metadata": {
        "id": "hnmtDT2S5sO3"
      },
      "execution_count": null,
      "outputs": []
    },
    {
      "cell_type": "code",
      "execution_count": null,
      "metadata": {
        "id": "pF8vJuHcs3sv",
        "colab": {
          "base_uri": "https://localhost:8080/"
        },
        "outputId": "b215686f-9dfe-4d66-c3b6-d4bddea9c986"
      },
      "outputs": [
        {
          "output_type": "stream",
          "name": "stdout",
          "text": [
            "nvcc: NVIDIA (R) Cuda compiler driver\n",
            "Copyright (c) 2005-2022 NVIDIA Corporation\n",
            "Built on Tue_May__3_18:49:52_PDT_2022\n",
            "Cuda compilation tools, release 11.7, V11.7.64\n",
            "Build cuda_11.7.r11.7/compiler.31294372_0\n"
          ]
        }
      ],
      "source": [
        "!nvcc --version"
      ]
    },
    {
      "cell_type": "markdown",
      "source": [
        "### test"
      ],
      "metadata": {
        "id": "O8ONBOtZReWm"
      }
    },
    {
      "cell_type": "code",
      "source": [
        "!nvidia-smi"
      ],
      "metadata": {
        "id": "OHRgRoejqCeO"
      },
      "execution_count": null,
      "outputs": []
    },
    {
      "cell_type": "code",
      "source": [
        "!conda install pytorch==1.7.1 torchvision==0.8.2 torchaudio==0.7.2 cudatoolkit=11.0 -c pytorch"
      ],
      "metadata": {
        "id": "0hwgJ10hsWzw"
      },
      "execution_count": null,
      "outputs": []
    },
    {
      "cell_type": "code",
      "source": [
        "import shutil\n",
        "shutil.rmtree('/content/imagenet_exp/.ipynb_checkpoints')\n",
        "shutil.rmtree('/content/imagenet_exp/train/.ipynb_checkpoints')\n",
        "shutil.rmtree('/content/imagenet_exp/val/.ipynb_checkpoints')"
      ],
      "metadata": {
        "id": "DQHNkjc125IM"
      },
      "execution_count": null,
      "outputs": []
    },
    {
      "cell_type": "code",
      "source": [
        "%cd /content/drive/MyDrive/da/enhancing-transformers\n",
        "!python3 main.py -c imagenet_vitvq_small -e 20"
      ],
      "metadata": {
        "id": "D4z4Wb9kRInM"
      },
      "execution_count": null,
      "outputs": []
    }
  ],
  "metadata": {
    "accelerator": "GPU",
    "colab": {
      "provenance": [],
      "collapsed_sections": [
        "qHOdoC1IJQ2C"
      ],
      "gpuType": "T4"
    },
    "kernelspec": {
      "display_name": "Python 3",
      "name": "python3"
    },
    "language_info": {
      "name": "python"
    }
  },
  "nbformat": 4,
  "nbformat_minor": 0
}